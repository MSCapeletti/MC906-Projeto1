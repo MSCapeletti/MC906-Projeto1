{
 "cells": [
  {
   "cell_type": "code",
   "execution_count": null,
   "metadata": {},
   "outputs": [],
   "source": []
  },
  {
   "cell_type": "markdown",
   "metadata": {},
   "source": [
    "# Resolvendo Pacman\n",
    "_The definition of the problem, the solution, and the results obtained must be presented in a report created as a\n",
    "Jupyter notebook. Please, make sure you put the graphs, tables, comparisons, and critical analysis in the notebook.\n",
    "The report should clearly indicate what the contribution of each team member was._\n",
    "\n",
    "O objetivo deste trabalho é de resolver o jogo Pacman, de forma estática, utilizando os algoritmos de busca aprendidos nas aulas de MC906/MO416.\n",
    "\n",
    "## Algoritmos utilizados\n",
    "1. Breadth first search\n",
    "2. Depth first search\n",
    "3. Best First search\n",
    "4. A*\n",
    "5. Hill climbing search (ou simulated annealing, ainda não sei)\n",
    "# **explicar a escolha dos métodos depois**"
   ]
  },
  {
   "cell_type": "markdown",
   "metadata": {},
   "source": [
    "## Heurísticas\n",
    "\n",
    "As Heurísticas elaboradas foram determinantes, principalmente para os Informed Search Algorithms, onde seu resultado h(n) é contabilizado juntamente do path cost   g(n) para o agente decidir o próximo passo a ser avaliado. Podendo ou não indicar a melhor solução.\n",
    "\n",
    "Para o problema do Pacman nossas heurísticas estão voltadas para achar o menor caminho possível para nosso agente chegar ao *goal*, não foram parametrizados as moedas espalhadas pelo mapa.\n",
    "\n",
    "Com uma busca pela bibliografia e na internet achamos duas heurísticas bastante utilizadas em problemas desse tipo.\n",
    "\n",
    "### Distância Manhattan\n",
    "\n",
    "Baseado na \"real\" distância que o agente irá percorrer. Considera o número de passos que serão dados, o número de ações que serão tomadas.\n",
    "\n",
    "O processamento é um pouco mais custoso do que o normal, devido a essa metodologia.\n",
    "\n"
   ]
  },
  {
   "cell_type": "code",
   "execution_count": null,
   "metadata": {},
   "outputs": [],
   "source": [
    "   # Calcula a distancia entre duas posicoes, valido apenas para posicoes que fazem parte da sol\n",
    "    @functools.lru_cache(maxsize=4096)\n",
    "    def manhattan_distance(self, position1, position2, lim=100000):\n",
    "        if position1 == position2:\n",
    "            return 0\n",
    "   # dicicionario com formato { item: [distancia, visitado (0 = nao, 1 = sim)], ... }\n",
    "        d = dict.fromkeys(self.reachable_positions(position1), [math.inf, 0])\n",
    "        d[position1] = [0, 0]\n",
    "\n",
    "        i = 0\n",
    "        while min({l[1] for l in d.values()}) == 0 and i < lim:\n",
    "            m = math.inf\n",
    "            current = None\n",
    "            for k, v in d.items():\n",
    "                if v[1] == 0 and v[0] < m:\n",
    "                    current = k\n",
    "                    m = v[0]\n",
    "\n",
    "            d[current] = [m, 1]\n",
    "\n",
    "            neighbors = self.adjacent(current)\n",
    "            for neighbor in neighbors:\n",
    "                if d[neighbor][1] == 0 and m + 1 < d[neighbor][0]:\n",
    "                    d[neighbor] = [m + 1, 0]\n",
    "                    if neighbor == position2:\n",
    "                        return m + 1\n",
    "\n",
    "            current = None\n",
    "            i = i + 1\n",
    "\n",
    "        try:\n",
    "            return d[position2][0]\n",
    "        except KeyError:\n",
    "            return math.inf``"
   ]
  },
  {
   "cell_type": "markdown",
   "metadata": {},
   "source": [
    "O algoritmo acima checa a **distância de manhattan** entre dois pontos.\n",
    "Inicialmente, ele checa se os pontos passados se referem a mesma posição, em caso positivo, já temos nossa resposta! (e nos poupa um bom processamento). Em caso negativo manhattan_distance usa uma função auxiliar (*reachable_positions*) que nos retorna um dicionário onde dada a chave (coordenadas da respectiva posição) temos um valor (uma lista (distancia, visitado)).\n",
    "Enquanto não existir elementos ainda não visitados, avaliamos o **mais próximo** dentre estes,  da posição corrente da nossa busca.\n",
    "\n",
    "Com esse nó avaliado no loop, para cada posição adjacente não avaliada, incrementa-se a distância respectiva.\n",
    "\n",
    "Esse processo continua até que se visite a posição dada por _position2_ \n",
    "\n",
    "Ou seja, em resumo, simulamos os passos a serem dados para nosso agente chegar de um ponto A (*position1*) a um ponto B (*position2*) e projetamos o menor caminho possível, sustentado pela estratégia de que iniciamos cada uma das \"buscas parciais\" do nó com a menor distância, nos termos de manhattan, a cada iteração."
   ]
  },
  {
   "cell_type": "markdown",
   "metadata": {},
   "source": [
    "### Distância Euclidiana\n"
   ]
  },
  {
   "cell_type": "code",
   "execution_count": null,
   "metadata": {},
   "outputs": [],
   "source": [
    "      def euclidean_distance(self, position1, position2):\n",
    "        if self.reachable(position1, position2) is False:\n",
    "            return math.inf\n",
    "        \n",
    "        deltaX1 = (position2[0] - position1[0])**2\n",
    "        deltaY1 = (position2[1] - position1[1])**2\n",
    "        return (deltaX1 + deltaY1)**0.5"
   ]
  },
  {
   "cell_type": "markdown",
   "metadata": {},
   "source": [
    "Essa heurística é bem mais direta em termos de lógica e processamento de dados. \n",
    "\n",
    "A distância euclidiana avalia simplismente, a distância em linha reta, do ponto A ao ponto B, que no caso de nosso algoritmo de busca seriam o ponto de avaliação atual ao goal.\n",
    "\n",
    "Em primeiro lugar, checamos se os dois pontos são alcançáveis. Se sim, calculamos a distância segundo a fórmula de Euclides:\n",
    "\n",
    "$\\sqrt{(x2 - x1)² + (y2 - y1)²)}$\n"
   ]
  },
  {
   "cell_type": "markdown",
   "metadata": {},
   "source": [
    "## Representação do problema e seus estados\n",
    "\n",
    "Como forma de facilitar nosso trabalho, usamos a estrutura da ferramenta AIMA, dada como auxílio para o desenvolvimento do nosso projeto. Aproveitamos a classe **__Node__** para armazenar o estado, que nada mais seria que as coordenadas (x, y) descrevendo a posição no maze.\n",
    "\n",
    "Essa classe contém alguns métodos que nos serão muito úteis, como o método *path*, que nos dá o caminho percorrido até ali pela busca, ou o *expand* que nos retorna uma lista de nós que podemos seguir a partir das ações disponíveis.\n",
    "\n",
    "Quanto aos métodos de busca, por estarmos aproveitando a estrutura dada também seguiu a mesma lógica do AIMA. Algumas alterações foram necessárias...\n",
    "\n",
    "### TODO"
   ]
  },
  {
   "cell_type": "markdown",
   "metadata": {},
   "source": [
    "## Goal Test\n",
    "\n",
    "Simplesmente é passado o path contendo o novo node a ser avaliado e, como estrutura do problema, nosso goal.\n",
    "Caso o goal esteja contido no path achamos nosso objetivo! O agente então poderá agir.\n",
    "\n",
    "Aqui é importante lembrar que nosso agente realiza somente buscas offline, ou seja, antes de realizar uma ação, a busca é executada e uma solução é encontrada."
   ]
  },
  {
   "cell_type": "code",
   "execution_count": null,
   "metadata": {},
   "outputs": [],
   "source": []
  },
  {
   "cell_type": "markdown",
   "metadata": {},
   "source": [
    "### 1. Breadth first search\n",
    "\n",
    "**Completo:** Sim.\n",
    "\n",
    "**Ótimo:** Não.\n",
    "\n",
    "**Complexidade de tempo:** Toda vez que é feita uma expansão até 3 novos nós são adicionados à fila de prioridade, portanto **O**($3^{d+1}$), onde d+1 é a profundidade da solução mais rasa (mais próxima do estado inicial).\n",
    "\n",
    "**Complexidade de memória:** O algoritmo armazena os nós expandidos em uma fila de prioridade e os visitados em uma lista, poranto **O**($3^{d+1}$), igual à complexidade de tempo.\n",
    "\n",
    "**Resultados:**\n",
    "\n",
    "*Problema1:* Tempo de execução: 0.01 segundos, iterações: 136, posições distintas visitadas: 14\n",
    "\n",
    "*Problema2:* Tempo de execução: 0.01 segundos, iterações: 159, posições distintas visitadas: 23\n",
    "\n",
    "*Problema3:* Tempo de execução: 0.003 segundos, iterações: 66, posições distintas visitadas: 14"
   ]
  },
  {
   "cell_type": "markdown",
   "metadata": {},
   "source": [
    "### 2. Depth first search\n",
    "\n",
    "**Completo:** Sim.\n",
    "\n",
    "**Ótimo:** Não.\n",
    "\n",
    "**Complexidade de tempo:** Toda vez que é feita uma expansão até 3 novos nós são adicionados à fila de prioridade, portanto **O**($3^{d+1}$), onde d+1 é a profundidade da solução mais rasa (mais próxima do estado inicial).\n",
    "\n",
    "**Complexidade de memória:** O algoritmo armazena os nós expandidos em uma fila de prioridade e os visitados em uma lista, poranto **O**($3^{d+1}$), igual à complexidade de tempo.\n",
    "\n",
    "**Resultados:**\n",
    "\n",
    "*Problema1:* Tempo de execução: 0.009 segundos, iterações: 317, posições distintas visitadas: 24\n",
    "\n",
    "*Problema2:* Tempo de execução: 0.01 segundos, iterações: 348, posições distintas visitadas: 27\n",
    "\n",
    "*Problema3:* Tempo de execução: 0.002 segundos, iterações: 94, posições distintas visitadas: 18"
   ]
  },
  {
   "cell_type": "markdown",
   "metadata": {},
   "source": [
    "### 3. Greedy Best first search\n",
    "\n",
    "O _Greedy Best First Search Algoritm_ funciona de maneira muito parecida com o _A* Search_. A partir de um nó inicial, avalia-se o custo f(n) do caminho a cada um de seus possíveis destinos, de acordo com as ações que poderão ser tomadas.\n",
    "\n",
    "Onde,\n",
    "\n",
    "  f(n) = g(n) + h(n) \n",
    " \n",
    "  g(n) é o custo do caminho tomado e h(n) é o custo segundo a heurística adotada para a avaliação.\n",
    "\n",
    "\n",
    "Seu nome greedy (ganancioso) se dá pelo fato de que após uma ação tomada, não faz mais parte da avaliação (até que se comprove que o caminho não se dá até o goal) os custos perantes as demais ações possíveis, os outros nós adjacentes no nosso caso.\n",
    "\n",
    "<p align=\"center\">\n",
    "  <img width=\"400\" height=\"400\" src=\"Greedy.png\">\n",
    "</p>\n",
    "\n",
    "Acima vemos uma imagem que ilustra o comportamento do algoritmo, independente de que outros nós possam formar um caminho mais caro, por agora, mas mais vantajoso como solução completa.\n",
    "\n",
    "**Completo:** Não.\n",
    "\n",
    "**Ótimo:** Não.\n",
    "\n",
    "**Complexidade de tempo:** O(b^m). \n",
    "\n",
    "**Complexidade de memória:** O(b^m).\n",
    "\n",
    "Em ambos b é a quantidade de nós que a atual posição pode expandir e m refere-se à profundidade da busca.\n",
    "Mas é importante ressaltar que em alguns casos, a situação pode favorecer e se tornar um algoritmo bem eficiente, como vimos através dos resultados obtidos.\n",
    "O grande problema da greedy solution é o fato de não ter controle em situações de espaço infinito, ou em caminhos sem solução. Outra situação ruim é que nem sempre optará pelo caminho menos custoso, o que no nosso caso não chegou a ser um problema, mas em situações de maior escala podem vir a ser um grande problema.\n",
    "\n",
    "**Resultados:**\n",
    "\n",
    "*Problema1:* Tempo de execução: 0.003 segundos, iterações: 47, posições distintas visitadas: 14\n",
    "\n",
    "*Problema2:* Tempo de execução: 0.004 segundos, iterações: 77, posições distintas visitadas: 23\n",
    "\n",
    "*Problema3:* Tempo de execução: 0.001 segundos, iterações: 47, posições distintas visitadas: 14"
   ]
  },
  {
   "cell_type": "markdown",
   "metadata": {},
   "source": [
    "### 4. A*\n",
    "\n",
    "**Completo:** Sim.\n",
    "\n",
    "**Ótimo:** Não.\n",
    "\n",
    "**Complexidade de tempo:** Toda vez que é feita uma expansão até 3 novos nós são adicionados à fila de prioridade, portanto **O**($3^{d+1}$), onde d+1 é a profundidade da solução mais rasa (mais próxima do estado inicial).\n",
    "\n",
    "**Complexidade de memória:** O algoritmo armazena os nós expandidos em uma fila de prioridade e os visitados em uma lista, poranto **O**($3^{d+1}$), igual à complexidade de tempo.\n",
    "\n",
    "**Resultados:**\n",
    "\n",
    "*Problema1:* Tempo de execução: 0.13 segundos, iterações: 156, posições distintas visitadas: 18\n",
    "\n",
    "*Problema2:* Tempo de execução: 0.21 segundos, iterações: 182, posições distintas visitadas: 23\n",
    "\n",
    "*Problema3:* Tempo de execução: 0.02 segundos, iterações: 47, posições distintas visitadas: 14"
   ]
  },
  {
   "cell_type": "markdown",
   "metadata": {},
   "source": [
    "### 5. Hill climbing search\n",
    "\n",
    "**Completo:** TODO.\n",
    "\n",
    "**Ótimo:** TODO.\n",
    "\n",
    "**Complexidade de tempo:** TODO.\n",
    "\n",
    "**Complexidade de memória:** TODO.\n",
    "\n",
    "**Resultados:**\n",
    "\n",
    "*Problema1:* Tempo de execução: 0.004 segundos, iterações: 173, posições distintas visitadas: 18\n",
    "\n",
    "*Problema2:* Tempo de execução: 0.007 segundos, iterações: 182, posições distintas visitadas: 23\n",
    "\n",
    "*Problema3:* Tempo de execução: 0.003 segundos, iterações: 71, posições distintas visitadas: 14"
   ]
  },
  {
   "cell_type": "code",
   "execution_count": null,
   "metadata": {},
   "outputs": [],
   "source": []
  }
 ],
 "metadata": {
  "kernelspec": {
   "display_name": "Python 3",
   "language": "python",
   "name": "python3"
  },
  "language_info": {
   "codemirror_mode": {
    "name": "ipython",
    "version": 3
   },
   "file_extension": ".py",
   "mimetype": "text/x-python",
   "name": "python",
   "nbconvert_exporter": "python",
   "pygments_lexer": "ipython3",
   "version": "3.7.6"
  }
 },
 "nbformat": 4,
 "nbformat_minor": 4
}