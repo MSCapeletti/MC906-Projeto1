{
 "cells": [
  {
   "cell_type": "markdown",
   "metadata": {},
   "source": [
    "# Resolvendo Pacman\n",
    "_The definition of the problem, the solution, and the results obtained must be presented in a report created as a\n",
    "Jupyter notebook. Please, make sure you put the graphs, tables, comparisons, and critical analysis in the notebook.\n",
    "The report should clearly indicate what the contribution of each team member was._\n",
    "\n",
    "O objetivo deste trabalho é de resolver o jogo Pacman, de forma estática, utilizando os algoritmos de busca aprendidos nas aulas de MC906/MO416.\n",
    "\n",
    "## Algoritmos utilizados\n",
    "1. Breadth first search\n",
    "2. Depth first search\n",
    "3. Best First search\n",
    "4. A*\n",
    "5. Hill climbing search (ou simulated annealing, ainda não sei)\n",
    "# **explicar a escolha dos métodos depois**"
   ]
  },
  {
   "cell_type": "markdown",
   "metadata": {},
   "source": [
    "## Representação do problema e seus estados\n",
    "\n",
    "### TODO"
   ]
  },
  {
   "cell_type": "markdown",
   "metadata": {},
   "source": [
    "### 1. Breadth first search\n",
    "\n",
    "- Apresentar os resultados\n",
    "\n",
    "_The system must be evaluated according to the quality of the solutions found and a critical evaluation is expected on\n",
    "the relationship between adopted parameters x solution performance. Graphs and tables representing the evolution of\n",
    "the solutions are expected. Additional comparisons with the literature are welcome, although they are not mandatory._\n",
    "- Fazer o mesmo para os de baixo"
   ]
  },
  {
   "cell_type": "markdown",
   "metadata": {},
   "source": [
    "### 2. Depth first search"
   ]
  },
  {
   "cell_type": "markdown",
   "metadata": {},
   "source": [
    "### 3. Best first search"
   ]
  },
  {
   "cell_type": "markdown",
   "metadata": {},
   "source": [
    "### 4. A*"
   ]
  },
  {
   "cell_type": "markdown",
   "metadata": {},
   "source": [
    "### 5. Hill climbing search"
   ]
  },
  {
   "cell_type": "code",
   "execution_count": null,
   "metadata": {},
   "outputs": [],
   "source": []
  }
 ],
 "metadata": {
  "kernelspec": {
   "display_name": "Python 3",
   "language": "python",
   "name": "python3"
  },
  "language_info": {
   "codemirror_mode": {
    "name": "ipython",
    "version": 3
   },
   "file_extension": ".py",
   "mimetype": "text/x-python",
   "name": "python",
   "nbconvert_exporter": "python",
   "pygments_lexer": "ipython3",
   "version": "3.8.1"
  }
 },
 "nbformat": 4,
 "nbformat_minor": 4
}
