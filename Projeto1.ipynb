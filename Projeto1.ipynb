{
 "cells": [
  {
   "cell_type": "code",
   "execution_count": null,
   "metadata": {},
   "outputs": [],
   "source": []
  },
  {
   "cell_type": "markdown",
   "metadata": {},
   "source": [
    "# Resolvendo Pacman\n",
    "_The definition of the problem, the solution, and the results obtained must be presented in a report created as a\n",
    "Jupyter notebook. Please, make sure you put the graphs, tables, comparisons, and critical analysis in the notebook.\n",
    "The report should clearly indicate what the contribution of each team member was._\n",
    "\n",
    "O objetivo deste trabalho é de resolver o jogo Pacman, de forma estática, utilizando os algoritmos de busca aprendidos nas aulas de MC906/MO416.\n",
    "\n",
    "## Algoritmos utilizados\n",
    "1. Breadth first search\n",
    "2. Depth first search\n",
    "3. Best First search\n",
    "4. A*\n",
    "5. Hill climbing search (ou simulated annealing, ainda não sei)\n",
    "# **explicar a escolha dos métodos depois**"
   ]
  },
  {
   "cell_type": "markdown",
   "metadata": {},
   "source": [
    "## Representação do problema e seus estados\n",
    "\n",
    "### TODO"
   ]
  },
  {
   "cell_type": "code",
   "execution_count": null,
   "metadata": {},
   "outputs": [],
   "source": []
  },
  {
   "cell_type": "markdown",
   "metadata": {},
   "source": [
    "### 1. Breadth first search\n",
    "\n",
    "**Completo:** Sim.\n",
    "\n",
    "**Ótimo:** Não.\n",
    "\n",
    "**Complexidade de tempo:** Toda vez que é feita uma expansão até 3 novos nós são adicionados à fila de prioridade, portanto **O**($3^{d+1}$), onde d+1 é a profundidade da solução mais rasa (mais próxima do estado inicial).\n",
    "\n",
    "**Complexidade de memória:** O algoritmo armazena os nós expandidos em uma fila de prioridade e os visitados em uma lista, poranto **O**($3^{d+1}$), igual à complexidade de tempo.\n",
    "\n",
    "**Resultados:**\n",
    "\n",
    "*Problema1:* Tempo de execução: 0.01 segundos, iterações: 136, posições distintas visitadas: 14\n",
    "\n",
    "*Problema2:* Tempo de execução: 0.01 segundos, iterações: 159, posições distintas visitadas: 23\n",
    "\n",
    "*Problema3:* Tempo de execução: 0.003 segundos, iterações: 66, posições distintas visitadas: 14"
   ]
  },
  {
   "cell_type": "markdown",
   "metadata": {},
   "source": [
    "### 2. Depth first search\n",
    "\n",
    "**Completo:** Sim.\n",
    "\n",
    "**Ótimo:** Não.\n",
    "\n",
    "**Complexidade de tempo:** Toda vez que é feita uma expansão até 3 novos nós são adicionados à fila de prioridade, portanto **O**($3^{d+1}$), onde d+1 é a profundidade da solução mais rasa (mais próxima do estado inicial).\n",
    "\n",
    "**Complexidade de memória:** O algoritmo armazena os nós expandidos em uma fila de prioridade e os visitados em uma lista, poranto **O**($3^{d+1}$), igual à complexidade de tempo.\n",
    "\n",
    "**Resultados:**\n",
    "\n",
    "*Problema1:* Tempo de execução: 0.009 segundos, iterações: 317, posições distintas visitadas: 24\n",
    "\n",
    "*Problema2:* Tempo de execução: 0.01 segundos, iterações: 348, posições distintas visitadas: 27\n",
    "\n",
    "*Problema3:* Tempo de execução: 0.002 segundos, iterações: 94, posições distintas visitadas: 18"
   ]
  },
  {
   "cell_type": "markdown",
   "metadata": {},
   "source": [
    "### 3. Best first search\n",
    "\n",
    "**Completo:** TODO.\n",
    "\n",
    "**Ótimo:** TODO.\n",
    "\n",
    "**Complexidade de tempo:** TODO.\n",
    "\n",
    "**Complexidade de memória:** TODO.\n",
    "\n",
    "**Resultados:**\n",
    "\n",
    "*Problema1:* Tempo de execução: 0.003 segundos, iterações: 47, posições distintas visitadas: 14\n",
    "\n",
    "*Problema2:* Tempo de execução: 0.004 segundos, iterações: 77, posições distintas visitadas: 23\n",
    "\n",
    "*Problema3:* Tempo de execução: 0.001 segundos, iterações: 47, posições distintas visitadas: 14"
   ]
  },
  {
   "cell_type": "markdown",
   "metadata": {},
   "source": [
    "### 4. A*\n",
    "\n",
    "**Completo:** Sim.\n",
    "\n",
    "**Ótimo:** Não.\n",
    "\n",
    "**Complexidade de tempo:** Toda vez que é feita uma expansão até 3 novos nós são adicionados à fila de prioridade, portanto **O**($3^{d+1}$), onde d+1 é a profundidade da solução mais rasa (mais próxima do estado inicial).\n",
    "\n",
    "**Complexidade de memória:** O algoritmo armazena os nós expandidos em uma fila de prioridade e os visitados em uma lista, poranto **O**($3^{d+1}$), igual à complexidade de tempo.\n",
    "\n",
    "**Resultados:**\n",
    "\n",
    "*Problema1:* Tempo de execução: 0.13 segundos, iterações: 156, posições distintas visitadas: 18\n",
    "\n",
    "*Problema2:* Tempo de execução: 0.21 segundos, iterações: 182, posições distintas visitadas: 23\n",
    "\n",
    "*Problema3:* Tempo de execução: 0.02 segundos, iterações: 47, posições distintas visitadas: 14"
   ]
  },
  {
   "cell_type": "markdown",
   "metadata": {},
   "source": [
    "### 5. Hill climbing search\n",
    "\n",
    "**Completo:** TODO.\n",
    "\n",
    "**Ótimo:** TODO.\n",
    "\n",
    "**Complexidade de tempo:** TODO.\n",
    "\n",
    "**Complexidade de memória:** TODO.\n",
    "\n",
    "**Resultados:**\n",
    "\n",
    "*Problema1:* Tempo de execução: 0.004 segundos, iterações: 173, posições distintas visitadas: 18\n",
    "\n",
    "*Problema2:* Tempo de execução: 0.007 segundos, iterações: 182, posições distintas visitadas: 23\n",
    "\n",
    "*Problema3:* Tempo de execução: 0.003 segundos, iterações: 71, posições distintas visitadas: 14"
   ]
  },
  {
   "cell_type": "code",
   "execution_count": null,
   "metadata": {},
   "outputs": [],
   "source": []
  }
 ],
 "metadata": {
  "kernelspec": {
   "display_name": "Python 3",
   "language": "python",
   "name": "python3"
  },
  "language_info": {
   "codemirror_mode": {
    "name": "ipython",
    "version": 3
   },
   "file_extension": ".py",
   "mimetype": "text/x-python",
   "name": "python",
   "nbconvert_exporter": "python",
   "pygments_lexer": "ipython3",
   "version": "3.7.6"
  }
 },
 "nbformat": 4,
 "nbformat_minor": 4
}
